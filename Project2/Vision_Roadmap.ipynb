{
 "cells": [
  {
   "cell_type": "markdown",
   "metadata": {},
   "source": [
    "# Algorithmic Robotics Project #2: Planning Algorithms\n",
    "## Ross Kasal rnk14, Rahul Pokharna rkp43\n",
    "\n",
    "### Vision Based Roadmaps"
   ]
  },
  {
   "cell_type": "markdown",
   "metadata": {},
   "source": [
    "Declare a start and goal point with obstacles in between them\n",
    "\n",
    "Create a path from the start point to each visible vertex on each obstacle\n",
    "Make sure that “visible” is that the edge doesn’t go through an occupied space (how do we want to define this occupied space)\n",
    "\n",
    "Loop through each obstacle creating a path from each vertex to every other visible vertex, possibly the goal if applicable (follow the same methods as above)\n",
    "\n",
    "Use Dijkstra's algorithm to find the optimal path from start to finish\n",
    "\n",
    "Store edge distance information\n",
    "\n",
    "Test different paths to figure out which path is the shortests from start to goal\n",
    "\n",
    "Do I also want to try to do a reduced visibility graph?\n",
    "\n",
    "A regular visibility graph might take less time than the reduced visibility graph but the reduced visibility graph is cleaner"
   ]
  },
  {
   "cell_type": "code",
   "execution_count": 3,
   "metadata": {},
   "outputs": [
    {
     "ename": "ShapefileException",
     "evalue": "Unable to open GSHHS_c_L1.dbf or GSHHS_c_L1.shp.",
     "output_type": "error",
     "traceback": [
      "\u001b[0;31m---------------------------------------------------------------------------\u001b[0m",
      "\u001b[0;31mShapefileException\u001b[0m                        Traceback (most recent call last)",
      "\u001b[0;32m<ipython-input-3-d539658752ca>\u001b[0m in \u001b[0;36m<module>\u001b[0;34m()\u001b[0m\n\u001b[1;32m     10\u001b[0m \u001b[0;31m#    this script.\u001b[0m\u001b[0;34m\u001b[0m\u001b[0;34m\u001b[0m\u001b[0m\n\u001b[1;32m     11\u001b[0m \u001b[0;34m\u001b[0m\u001b[0m\n\u001b[0;32m---> 12\u001b[0;31m \u001b[0minput_shapefile\u001b[0m \u001b[0;34m=\u001b[0m \u001b[0mshapefile\u001b[0m\u001b[0;34m.\u001b[0m\u001b[0mReader\u001b[0m\u001b[0;34m(\u001b[0m\u001b[0;34m'GSHHS_c_L1'\u001b[0m\u001b[0;34m)\u001b[0m\u001b[0;34m\u001b[0m\u001b[0m\n\u001b[0m\u001b[1;32m     13\u001b[0m \u001b[0moutput_graphfile\u001b[0m \u001b[0;34m=\u001b[0m \u001b[0;34m'GSHHS_c_L1.graph'\u001b[0m\u001b[0;34m\u001b[0m\u001b[0m\n\u001b[1;32m     14\u001b[0m \u001b[0;31m# Number of CPU cores on host computer. If you don't know how many cores you\u001b[0m\u001b[0;34m\u001b[0m\u001b[0;34m\u001b[0m\u001b[0m\n",
      "\u001b[0;32m/Users/RossKasal/anaconda2/lib/python2.7/site-packages/shapefile.pyc\u001b[0m in \u001b[0;36m__init__\u001b[0;34m(self, *args, **kwargs)\u001b[0m\n\u001b[1;32m    551\u001b[0m         \u001b[0;32mif\u001b[0m \u001b[0mlen\u001b[0m\u001b[0;34m(\u001b[0m\u001b[0margs\u001b[0m\u001b[0;34m)\u001b[0m \u001b[0;34m>\u001b[0m \u001b[0;36m0\u001b[0m\u001b[0;34m:\u001b[0m\u001b[0;34m\u001b[0m\u001b[0m\n\u001b[1;32m    552\u001b[0m             \u001b[0;32mif\u001b[0m \u001b[0mis_string\u001b[0m\u001b[0;34m(\u001b[0m\u001b[0margs\u001b[0m\u001b[0;34m[\u001b[0m\u001b[0;36m0\u001b[0m\u001b[0;34m]\u001b[0m\u001b[0;34m)\u001b[0m\u001b[0;34m:\u001b[0m\u001b[0;34m\u001b[0m\u001b[0m\n\u001b[0;32m--> 553\u001b[0;31m                 \u001b[0mself\u001b[0m\u001b[0;34m.\u001b[0m\u001b[0mload\u001b[0m\u001b[0;34m(\u001b[0m\u001b[0margs\u001b[0m\u001b[0;34m[\u001b[0m\u001b[0;36m0\u001b[0m\u001b[0;34m]\u001b[0m\u001b[0;34m)\u001b[0m\u001b[0;34m\u001b[0m\u001b[0m\n\u001b[0m\u001b[1;32m    554\u001b[0m                 \u001b[0;32mreturn\u001b[0m\u001b[0;34m\u001b[0m\u001b[0m\n\u001b[1;32m    555\u001b[0m         \u001b[0;32mif\u001b[0m \u001b[0;34m\"shp\"\u001b[0m \u001b[0;32min\u001b[0m \u001b[0mkwargs\u001b[0m\u001b[0;34m.\u001b[0m\u001b[0mkeys\u001b[0m\u001b[0;34m(\u001b[0m\u001b[0;34m)\u001b[0m\u001b[0;34m:\u001b[0m\u001b[0;34m\u001b[0m\u001b[0m\n",
      "\u001b[0;32m/Users/RossKasal/anaconda2/lib/python2.7/site-packages/shapefile.pyc\u001b[0m in \u001b[0;36mload\u001b[0;34m(self, shapefile)\u001b[0m\n\u001b[1;32m    644\u001b[0m             \u001b[0mself\u001b[0m\u001b[0;34m.\u001b[0m\u001b[0mload_dbf\u001b[0m\u001b[0;34m(\u001b[0m\u001b[0mshapeName\u001b[0m\u001b[0;34m)\u001b[0m\u001b[0;34m\u001b[0m\u001b[0m\n\u001b[1;32m    645\u001b[0m             \u001b[0;32mif\u001b[0m \u001b[0;32mnot\u001b[0m \u001b[0;34m(\u001b[0m\u001b[0mself\u001b[0m\u001b[0;34m.\u001b[0m\u001b[0mshp\u001b[0m \u001b[0;32mor\u001b[0m \u001b[0mself\u001b[0m\u001b[0;34m.\u001b[0m\u001b[0mdbf\u001b[0m\u001b[0;34m)\u001b[0m\u001b[0;34m:\u001b[0m\u001b[0;34m\u001b[0m\u001b[0m\n\u001b[0;32m--> 646\u001b[0;31m                 \u001b[0;32mraise\u001b[0m \u001b[0mShapefileException\u001b[0m\u001b[0;34m(\u001b[0m\u001b[0;34m\"Unable to open %s.dbf or %s.shp.\"\u001b[0m \u001b[0;34m%\u001b[0m \u001b[0;34m(\u001b[0m\u001b[0mshapeName\u001b[0m\u001b[0;34m,\u001b[0m \u001b[0mshapeName\u001b[0m\u001b[0;34m)\u001b[0m\u001b[0;34m)\u001b[0m\u001b[0;34m\u001b[0m\u001b[0m\n\u001b[0m\u001b[1;32m    647\u001b[0m         \u001b[0;32mif\u001b[0m \u001b[0mself\u001b[0m\u001b[0;34m.\u001b[0m\u001b[0mshp\u001b[0m\u001b[0;34m:\u001b[0m\u001b[0;34m\u001b[0m\u001b[0m\n\u001b[1;32m    648\u001b[0m             \u001b[0mself\u001b[0m\u001b[0;34m.\u001b[0m\u001b[0m__shpHeader\u001b[0m\u001b[0;34m(\u001b[0m\u001b[0;34m)\u001b[0m\u001b[0;34m\u001b[0m\u001b[0m\n",
      "\u001b[0;31mShapefileException\u001b[0m: Unable to open GSHHS_c_L1.dbf or GSHHS_c_L1.shp."
     ]
    }
   ],
   "source": [
    "import pyvisgraph as vg\n",
    "import shapefile\n",
    "\n",
    "# In this example a visibility graph will be created from the GSHHS shorelines\n",
    "# available at: https://www.ngdc.noaa.gov/mgg/shorelines/gshhs.html\n",
    "# 1. Download the shorelines as shape files and select the wanted resolution \n",
    "#    and level (in this example we use Crude, L1). \n",
    "# 2. Copy all the related files (shx, shp, prj, dbf) to the folder that contains\n",
    "#    this script.\n",
    "\n",
    "input_shapefile = shapefile.Reader('GSHHS_c_L1')\n",
    "output_graphfile = 'GSHHS_c_L1.graph'\n",
    "# Number of CPU cores on host computer. If you don't know how many cores you\n",
    "# have, use 'cat /proc/cpuinfo | grep processor | wc -l' on Linux. On Windows,\n",
    "# press Ctrl + Shift + Esc, press Performance tab. Look for 'logical processors'.\n",
    "workers = 4 \n",
    "\n",
    "# Get the shoreline shapes from the shape file. Broadly speaking the GSHHS\n",
    "# shapes correspond to the shorelines of continents, countries and islands.\n",
    "shapes = input_shapefile.shapes()\n",
    "print('The shapefile contains {} shapes.'.format(len(shapes)))\n",
    "\n",
    "# Create a list of polygons, where each polygon corresponds to a shape\n",
    "polygons = []\n",
    "for shape in shapes:\n",
    "    polygon = []\n",
    "    for point in shape.points:\n",
    "        polygon.append(vg.Point(point[0], point[1]))\n",
    "    polygons.append(polygon)\n",
    "\n",
    "# Start building the visibility graph \n",
    "graph = vg.VisGraph()\n",
    "print('Starting building visibility graph')\n",
    "graph.build(polygons, workers=workers)\n",
    "print('Finished building visibility graph')\n",
    "\n",
    "# Save the visibility graph to a file \n",
    "graph.save(output_graphfile)\n",
    "print('Saved visibility graph to file: {}'.format(output_graphfile))"
   ]
  },
  {
   "cell_type": "code",
   "execution_count": null,
   "metadata": {},
   "outputs": [],
   "source": [
    "import shapefile\n",
    "\n",
    "# Create our writer as a multipoint shapefile\n",
    "w = shapefile.Writer(shapefile.MULTIPOINT)\n",
    "\n",
    "# We'll create a single dbf field\n",
    "w.field(\"NAME\",\"C\",40)\n",
    "\n",
    "# Create a single-part, multi-point shape \n",
    "# by declaring the shape\n",
    "# type after the parts/points list\n",
    "w.poly([[[3,4],[5,6],[7,8],[9,8]]], shapeType=shapefile.MULTIPOINT)\n",
    "\n",
    "# Create a record for this feature\n",
    "w.record(\"Group1\")\n",
    "\n",
    "# Save the multipoint shapefile\n",
    "w.save(\"mpoint\")"
   ]
  }
 ],
 "metadata": {
  "kernelspec": {
   "display_name": "Python 2",
   "language": "python",
   "name": "python2"
  },
  "language_info": {
   "codemirror_mode": {
    "name": "ipython",
    "version": 2
   },
   "file_extension": ".py",
   "mimetype": "text/x-python",
   "name": "python",
   "nbconvert_exporter": "python",
   "pygments_lexer": "ipython2",
   "version": "2.7.16"
  }
 },
 "nbformat": 4,
 "nbformat_minor": 2
}
