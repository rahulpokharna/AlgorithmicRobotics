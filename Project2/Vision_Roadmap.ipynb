{
 "cells": [
  {
   "cell_type": "markdown",
   "metadata": {},
   "source": [
    "# Algorithmic Robotics Project #2: Planning Algorithms\n",
    "## Ross Kasal rnk14, Rahul Pokharna rkp43\n",
    "\n",
    "### Vision Based Roadmaps"
   ]
  },
  {
   "cell_type": "markdown",
   "metadata": {},
   "source": [
    "Declare a start and goal point with obstacles in between them\n",
    "\n",
    "Create a path from the start point to each visible vertex on each obstacle\n",
    "Make sure that “visible” is that the edge doesn’t go through an occupied space (how do we want to define this occupied space)\n",
    "\n",
    "Loop through each obstacle creating a path from each vertex to every other visible vertex, possibly the goal if applicable (follow the same methods as above)\n",
    "\n",
    "Use Dijkstra's algorithm to find the optimal path from start to finish\n",
    "\n",
    "Store edge distance information\n",
    "\n",
    "Test different paths to figure out which path is the shortests from start to goal\n",
    "\n",
    "Do I also want to try to do a reduced visibility graph?\n",
    "\n",
    "A regular visibility graph might take less time than the reduced visibility graph but the reduced visibility graph is cleaner"
   ]
  },
  {
   "cell_type": "markdown",
   "metadata": {},
   "source": [
    "https://github.com/TaipanRex/visgraph_simulator"
   ]
  }
 ],
 "metadata": {
  "kernelspec": {
   "display_name": "Python 2",
   "language": "python",
   "name": "python2"
  },
  "language_info": {
   "codemirror_mode": {
    "name": "ipython",
    "version": 2
   },
   "file_extension": ".py",
   "mimetype": "text/x-python",
   "name": "python",
   "nbconvert_exporter": "python",
   "pygments_lexer": "ipython2",
   "version": "2.7.16"
  }
 },
 "nbformat": 4,
 "nbformat_minor": 2
}
